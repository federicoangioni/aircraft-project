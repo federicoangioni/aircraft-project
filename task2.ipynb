{
 "cells": [
  {
   "cell_type": "code",
   "execution_count": 1,
   "metadata": {},
   "outputs": [
    {
     "data": {
      "text/plain": [
       "array([-0.00838662,  0.23708306, -0.57673129])"
      ]
     },
     "execution_count": 1,
     "metadata": {},
     "output_type": "execute_result"
    }
   ],
   "source": [
    "import numpy as np\n",
    "\n",
    "a = np.array([[9.2857**2, 9.2857, 1],\n",
    "     [14.11**2, 14.11, 1],\n",
    "     [2*9.2857, 1, 0]])\n",
    "b = np.array([0.9016207, 1.0988, 0.0813317])\n",
    "\n",
    "x = np.linalg.solve(a, b)\n",
    "x"
   ]
  },
  {
   "cell_type": "code",
   "execution_count": null,
   "metadata": {},
   "outputs": [],
   "source": [
    "import math\n",
    "import numpy as np\n",
    "import matplotlib.pyplot as plt\n",
    "\n",
    "c4_sweep = math.radians(17.45)\n",
    "lambd = 0.235\n",
    "b = 28.08\n",
    "c_r = 5.392\n",
    "S = 93.5\n",
    "V = 128 # knots\n",
    "T = 288.15 # K\n",
    "a = np.sqrt(1.4*287.0*T)\n",
    "M = (V/1.943845249222) / a\n",
    "alpha_0l = np.radians(-1.8)\n",
    "alphas = np.radians(np.linspace(-5, 20))\n",
    "cl_max = 1.340\n",
    "c_f_div_c = 0.35\n",
    "dc_div_cf_50deg = 0.41\n",
    "dc_div_cf_20deg = 0.17\n",
    "\n",
    "C_1 = 0.5\n",
    "\n",
    "beta = np.sqrt(1-M**2)\n",
    "eta = 0.95\n",
    "\n",
    "#def method_determine(C_)\n",
    "def dCl_max(dc_div_cf):\n",
    "    return 1.6*(1 + dc_div_cf*c_f_div_c)\n",
    "\n",
    "def QCSweep_to_LESweep(QCSweep, taper_ratio, wing_span, root_chord):\n",
    "    return math.atan(math.tan(QCSweep) + (1/4) * ((2 * root_chord) / wing_span) * (1 - taper_ratio))\n",
    "\n",
    "def QCSweep_to_HalveCordSweep(QCSweep, taper_ratio, wing_span, root_chord):\n",
    "    return math.atan(math.tan(QCSweep) - (1/3) * ((2 * root_chord) / wing_span) * (1 - taper_ratio))\n",
    "\n",
    "HC_sweep = QCSweep_to_HalveCordSweep(c4_sweep, lambd, b, c_r)\n",
    "LE_sweep = np.degrees(QCSweep_to_LESweep(c4_sweep, lambd, b, c_r))\n",
    "AR = b**2/S\n",
    "AR_limit = 4/((C_1+1)*math.cos(np.radians(LE_sweep)))\n",
    "\n",
    "dclalpha = 2*np.pi*AR/(2+np.sqrt(4+((AR*beta/eta)**2))*(1+((np.tan(HC_sweep))**2)/(beta**2)))\n",
    "\n",
    "print(f\"The dcl/dalpha slope is {dclalpha*np.pi/180}\")\n",
    "\n",
    "\n",
    "# C_l max definition for clean wing\n",
    "# According to DATCOM zero lift angle is going to be the same\n",
    "\n",
    "\n",
    "# NACA  64(1)-212\n",
    "dy = 21.3*0.12\n",
    "print(dy)\n",
    "\n",
    "DCLmaxDcl= .82\n",
    "delta_CL_Max = 2.4\n",
    "CL_max = .82*cl_max\n",
    "alpha_s = CL_max/dclalpha + (alpha_0l) + np.radians(delta_CL_Max)\n",
    "\n",
    "\n",
    "CL = dclalpha*(alphas-alpha_0l)\n",
    "\n",
    "print(CL_max, np.degrees(alpha_s))\n",
    "\n",
    "print(f'The leading edge sweep is: {LE_sweep}')\n",
    "print(f'The leading edge sweep is: {LE_sweep}')\n",
    "print(f'The lower limit AR for High AR DATCOM method is: {AR_limit}')\n",
    "print(f'The leading edge sweep is: {LE_sweep}')\n",
    "print(f'The CL_max is: {CL_max}')\n",
    "\n",
    "\n",
    "fig, axs = plt.subplots(figsize=(8, 8))\n",
    "axs.grid(True)\n",
    "axs.axhline(linewidth=1, color=\"k\")\n",
    "axs.axvline(linewidth=1, color=\"k\")\n",
    "x = np.degrees(alphas)\n",
    "axs.plot(x[:28+1], CL[:28+1], color='black')\n",
    "axs.scatter(np.degrees(alpha_s), CL_max, color='red', label= '$C_{L_{max}}$')\n",
    "print(np.degrees(alpha_s))\n",
    "#axs.scatter(x[35], CL[35])\n",
    "#coef = np.array([-0.00838662,  0.23708306, -0.57673129])\n",
    "#vector = np.array([x**2, x, 1])\n",
    "\n",
    "axs.plot(x[28:42], - 0.00838662*x[28:42]**2 + 0.23708306*x[28:42] - 0.57673129, color = 'black')\n",
    "plt.legend()\n",
    "plt.show()"
   ]
  }
 ],
 "metadata": {
  "kernelspec": {
   "display_name": "base",
   "language": "python",
   "name": "python3"
  },
  "language_info": {
   "codemirror_mode": {
    "name": "ipython",
    "version": 3
   },
   "file_extension": ".py",
   "mimetype": "text/x-python",
   "name": "python",
   "nbconvert_exporter": "python",
   "pygments_lexer": "ipython3",
   "version": "3.12.4"
  }
 },
 "nbformat": 4,
 "nbformat_minor": 2
}
