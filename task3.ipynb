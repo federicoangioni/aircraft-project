{
 "cells": [
  {
   "cell_type": "markdown",
   "metadata": {},
   "source": [
    "## Drag Polar estimation through Drag Build-up method"
   ]
  },
  {
   "cell_type": "code",
   "execution_count": 1,
   "metadata": {},
   "outputs": [
    {
     "name": "stdout",
     "output_type": "stream",
     "text": [
      "The dcl/dalpha slope is 0.029488143147638743\n",
      "1.0988 37.862434412998496\n",
      "The leading edge sweep is: 21.19571251545713\n",
      "The leading edge sweep is: 21.19571251545713\n",
      "The lower limit AR for High AR DATCOM method is: 2.8601536001811767\n",
      "The leading edge sweep is: 21.19571251545713\n",
      "The CL_max is: 1.0988\n",
      "37.862434412998496\n"
     ]
    },
    {
     "data": {
      "image/png": "[encoded data removed]",
      "text/plain": [
       "<Figure size 800x800 with 1 Axes>"
      ]
     },
     "metadata": {},
     "output_type": "display_data"
    }
   ],
   "source": [
    "import numpy as np\n",
    "import matplotlib.pyplot as plt\n",
    "from ambiance import Atmosphere\n",
    "from task2v2 import *"
   ]
  },
  {
   "cell_type": "code",
   "execution_count": 2,
   "metadata": {},
   "outputs": [],
   "source": [
    "# Variables\n",
    "kn_factor = .5144444\n",
    "ft_factor = 3.281\n",
    "MTOW = 43090 #kg\n",
    "OEW = 24593 #kg\n",
    "fuel_weight = 8832 #kg\n",
    "b = 28.08\n",
    "S = 93.5\n",
    "c4_sweep = np.radians(17.45)\n",
    "tr = 0.235\n",
    "L_fus = 35.50 #m\n",
    "d_fus = 3.30 # m\n",
    "V_app = 128/kn_factor # knots\n",
    "h_app = 0\n",
    "V_cr = 430*kn_factor  # knots\n",
    "h_cruise = 30000 / ft_factor # ft\n"
   ]
  },
  {
   "cell_type": "markdown",
   "metadata": {},
   "source": [
    "### Parasite drag estimation"
   ]
  },
  {
   "cell_type": "markdown",
   "metadata": {},
   "source": [
    "Here we need to consider only for the contribution of the wing and of the fuselage. "
   ]
  },
  {
   "cell_type": "code",
   "execution_count": 3,
   "metadata": {},
   "outputs": [],
   "source": [
    "# Do not consider miscleanous drag\n",
    "C_dmisc = 0"
   ]
  },
  {
   "cell_type": "code",
   "execution_count": 4,
   "metadata": {},
   "outputs": [
    {
     "name": "stdout",
     "output_type": "stream",
     "text": [
      "9143.553794574824\n"
     ]
    },
    {
     "data": {
      "text/plain": [
       "(array([3.24052118e-05]), array([1.48761059e-05]), array([0.45906523]))"
      ]
     },
     "execution_count": 4,
     "metadata": {},
     "output_type": "execute_result"
    }
   ],
   "source": [
    "# Cruise parameters\n",
    "print(h_cruise)\n",
    "atmosphere = Atmosphere(h_cruise)\n",
    "kin_visc = atmosphere.kinematic_viscosity\n",
    "dyn_visc = atmosphere.dynamic_viscosity\n",
    "rho = atmosphere.density\n",
    "\n",
    "a = atmosphere.speed_of_sound\n",
    "M = V_cr/a[0]\n",
    "kin_visc, dyn_visc, rho"
   ]
  },
  {
   "cell_type": "markdown",
   "metadata": {},
   "source": [
    "### Fuselage component"
   ]
  },
  {
   "cell_type": "code",
   "execution_count": 5,
   "metadata": {},
   "outputs": [],
   "source": [
    "# 0.05% of the fuselage is laminar\n",
    "laminar_fus = 0.05\n",
    "\n",
    "k = 0.634e-5\n",
    "Re = 2.56e7#V_cr*c/kin_visc\n",
    "\n",
    "# Laminar friction coefficient\n",
    "C_f_lamFus = 1.328/np.sqrt(Re)\n",
    "\n",
    "# Turbolent friction coefficient\n",
    "C_f_turbFus = 0.455/((np.log10(Re)**(2.58))*(1+0.144*M**2)**0.65)\n",
    "\n",
    "# Total friction coefficient weighted\n",
    "C_fFus = laminar_fus * C_f_lamFus + (1-laminar_fus) * C_f_turbFus"
   ]
  },
  {
   "cell_type": "code",
   "execution_count": 6,
   "metadata": {},
   "outputs": [
    {
     "data": {
      "text/plain": [
       "1.0750896081495798"
      ]
     },
     "execution_count": 6,
     "metadata": {},
     "output_type": "execute_result"
    }
   ],
   "source": [
    "f_fus = L_fus/np.sqrt(d_fus**2)\n",
    "FF_fus = (1+ 60/f_fus**3 + f_fus/ 400)\n",
    "FF_fus"
   ]
  },
  {
   "cell_type": "markdown",
   "metadata": {},
   "source": [
    "#### Interference factor"
   ]
  },
  {
   "cell_type": "code",
   "execution_count": 7,
   "metadata": {},
   "outputs": [],
   "source": [
    "IF_fus = 1.0 # tbd"
   ]
  },
  {
   "cell_type": "markdown",
   "metadata": {},
   "source": [
    "#### Wet area"
   ]
  },
  {
   "cell_type": "code",
   "execution_count": 8,
   "metadata": {},
   "outputs": [
    {
     "data": {
      "text/plain": [
       "137.6301171676473"
      ]
     },
     "execution_count": 8,
     "metadata": {},
     "output_type": "execute_result"
    }
   ],
   "source": [
    "L1_fus = 1.99978\n",
    "L2_fus = 28.44\n",
    "L3_fus = 5.06\n",
    "\n",
    "S_wet_fus = (np.pi * d_fus / 4) * ((1 / (3 * L1_fus**2)) * ((4 * L1_fus**2 + d_fus**2 / 4)**1.5 - d_fus**3 / 8)) - d_fus + 4 * L2_fus + 2 * np.sqrt(L3_fus**2 + d_fus**2 / 4)\n",
    "\n",
    "S_wet_fus"
   ]
  },
  {
   "cell_type": "markdown",
   "metadata": {},
   "source": [
    "### Wing component"
   ]
  },
  {
   "cell_type": "code",
   "execution_count": 9,
   "metadata": {},
   "outputs": [],
   "source": [
    "c = 3.755"
   ]
  },
  {
   "cell_type": "code",
   "execution_count": 31,
   "metadata": {},
   "outputs": [],
   "source": [
    "def angle_at_xdivc(x, c, LEsweep, c_r, tr, b):\n",
    "    return np.arctan(np.tan(LEsweep) - (x/c)  * 2 * (c_r/b) * (1-tr))"
   ]
  },
  {
   "cell_type": "code",
   "execution_count": 36,
   "metadata": {},
   "outputs": [
    {
     "name": "stdout",
     "output_type": "stream",
     "text": [
      "21.19571251545713\n",
      "15.124014377256355 0.2639638470020832\n"
     ]
    },
    {
     "data": {
      "text/plain": [
       "(0.0002624690457939755, 0.002473444218208737, 0.002252346700967261)"
      ]
     },
     "execution_count": 36,
     "metadata": {},
     "output_type": "execute_result"
    }
   ],
   "source": [
    "laminar_wing = 0.1\n",
    "# NACA 64(1)-212\n",
    "x_c_m = 0.4\n",
    "ttoc = 0.12\n",
    "print(LE_sweep)\n",
    "lambda_m  = angle_at_xdivc(4, 10, np.radians(LE_sweep), c_r, tr, b)\n",
    "\n",
    "print(np.degrees(lambda_m), lambda_m)\n",
    "k = 0.634e-5 # paint factor\n",
    "Re = 2.56e7#V_cr*c/kin_visc\n",
    "\n",
    "# Laminar friction coefficient\n",
    "C_f_lamwing = 1.328/np.sqrt(Re)\n",
    "\n",
    "# Turbolent friction coefficient\n",
    "C_f_turbwing = 0.455/((np.log10(Re)**(2.58))*(1+0.144*M**2)**0.65)\n",
    "\n",
    "# Total friction coefficient weighted\n",
    "C_fwing = laminar_wing * C_f_lamwing + (1-laminar_wing) * C_f_turbwing\n",
    "C_f_lamwing, C_f_turbwing, C_fwing"
   ]
  },
  {
   "cell_type": "markdown",
   "metadata": {},
   "source": [
    "#### Form factor"
   ]
  },
  {
   "cell_type": "code",
   "execution_count": 12,
   "metadata": {},
   "outputs": [
    {
     "data": {
      "text/plain": [
       "1.353316845597582"
      ]
     },
     "execution_count": 12,
     "metadata": {},
     "output_type": "execute_result"
    }
   ],
   "source": [
    "FF_wing = (1+ (0.6 / x_c_m) * ttoc + 100*ttoc**4)*(1.34*M**0.18*np.cos(lambda_m)**0.28)\n",
    "FF_wing"
   ]
  },
  {
   "cell_type": "markdown",
   "metadata": {},
   "source": [
    "#### Interference factor"
   ]
  },
  {
   "cell_type": "code",
   "execution_count": 13,
   "metadata": {},
   "outputs": [],
   "source": [
    "IF_wing = 1.4 # 1.1 - 1.4"
   ]
  },
  {
   "cell_type": "markdown",
   "metadata": {},
   "source": [
    "#### S_{wet}"
   ]
  },
  {
   "cell_type": "code",
   "execution_count": 14,
   "metadata": {},
   "outputs": [
    {
     "data": {
      "text/plain": [
       "200.09"
      ]
     },
     "execution_count": 14,
     "metadata": {},
     "output_type": "execute_result"
    }
   ],
   "source": [
    "S_wet_wing = 2*1.07*S\n",
    "S_wet_wing"
   ]
  },
  {
   "cell_type": "markdown",
   "metadata": {},
   "source": [
    "## Wave drag"
   ]
  },
  {
   "cell_type": "markdown",
   "metadata": {},
   "source": [
    "### Final form drag estimation"
   ]
  },
  {
   "cell_type": "code",
   "execution_count": 18,
   "metadata": {},
   "outputs": [
    {
     "name": "stdout",
     "output_type": "stream",
     "text": [
      "[0.39738455]\n"
     ]
    },
    {
     "data": {
      "text/plain": [
       "(0.7837465384179368, 0.7295108819052281)"
      ]
     },
     "execution_count": 18,
     "metadata": {},
     "output_type": "execute_result"
    }
   ],
   "source": [
    "q = 0.5*rho*V_cr**2\n",
    "C_Ldes = 1.1*(1/q)*((MTOW + (MTOW-fuel_weight))/2)*9.81*1/S\n",
    "print(C_Ldes)\n",
    "M_DD = 0.935/(math.cos(c4_sweep)) - (0.12)/((math.cos(c4_sweep)**2)) - 0.56/(10*((math.cos(c4_sweep)**3)))\n",
    "M_DD, M"
   ]
  },
  {
   "cell_type": "code",
   "execution_count": 20,
   "metadata": {},
   "outputs": [
    {
     "data": {
      "text/plain": [
       "0.0005388246279353938"
      ]
     },
     "execution_count": 20,
     "metadata": {},
     "output_type": "execute_result"
    }
   ],
   "source": [
    "DeltaCD = 0.002*(1+2.5*(M_DD-M)/0.05)**(-1)\n",
    "DeltaCD"
   ]
  },
  {
   "cell_type": "code",
   "execution_count": 21,
   "metadata": {},
   "outputs": [
    {
     "name": "stdout",
     "output_type": "stream",
     "text": [
      "CD0 of the fuselafe and the aircraft without any compressibility effects and miscellaneuous drag is: 0.0134104\n"
     ]
    }
   ],
   "source": [
    "CD_0 = (1/S)*(FF_fus*IF_fus*C_fFus*S_wet_fus+C_fwing*FF_wing*IF_wing*S_wet_wing) + DeltaCD\n",
    "print(f\"CD0 of the fuselafe and the aircraft without any compressibility effects and miscellaneuous drag is: {np.round(CD_0, 7)}\")"
   ]
  },
  {
   "cell_type": "code",
   "execution_count": 109,
   "metadata": {},
   "outputs": [
    {
     "data": {
      "text/plain": [
       "0.5867956398330709"
      ]
     },
     "execution_count": 109,
     "metadata": {},
     "output_type": "execute_result"
    }
   ],
   "source": [
    "e = 4.61 * (1 - 0.045 * AR**0.68) * (np.cos(np.radians(LE_sweep))**0.15) - 3.1\n",
    "e"
   ]
  }
 ],
 "metadata": {
  "kernelspec": {
   "display_name": "base",
   "language": "python",
   "name": "python3"
  },
  "language_info": {
   "codemirror_mode": {
    "name": "ipython",
    "version": 3
   },
   "file_extension": ".py",
   "mimetype": "text/x-python",
   "name": "python",
   "nbconvert_exporter": "python",
   "pygments_lexer": "ipython3",
   "version": "3.12.4"
  }
 },
 "nbformat": 4,
 "nbformat_minor": 2
}
