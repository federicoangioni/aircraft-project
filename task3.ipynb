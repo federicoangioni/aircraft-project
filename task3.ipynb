{
 "cells": [
  {
   "cell_type": "markdown",
   "metadata": {},
   "source": [
    "## Drag Polar estimation through Drag Build-up method"
   ]
  },
  {
   "cell_type": "code",
   "execution_count": 1,
   "metadata": {},
   "outputs": [
    {
     "name": "stdout",
     "output_type": "stream",
     "text": [
      "The dcl/dalpha slope is 0.029488143147638743\n",
      "1.0988 37.862434412998496\n",
      "The leading edge sweep is: 21.19571251545713\n",
      "The leading edge sweep is: 21.19571251545713\n",
      "The lower limit AR for High AR DATCOM method is: 2.8601536001811767\n",
      "The leading edge sweep is: 21.19571251545713\n",
      "The CL_max is: 1.0988\n",
      "37.862434412998496\n"
     ]
    },
    {
     "data": {
      "image/png": "[encoded data removed]",
      "text/plain": [
       "<Figure size 800x800 with 1 Axes>"
      ]
     },
     "metadata": {},
     "output_type": "display_data"
    }
   ],
   "source": [
    "import numpy as np\n",
    "import matplotlib.pyplot as plt\n",
    "from ambiance import Atmosphere\n",
    "from task2v2 import *"
   ]
  },
  {
   "cell_type": "code",
   "execution_count": 2,
   "metadata": {},
   "outputs": [],
   "source": [
    "# Variables\n",
    "kn_factor = .5144444\n",
    "ft_factor = 3.281\n",
    "MTOW = 43090 #kg\n",
    "OEW = 24593 #kg\n",
    "fuel_weight = 8832 #kg\n",
    "b = 28.08\n",
    "S = 93.5\n",
    "c4_sweep = np.radians(17.45)\n",
    "tr = 0.235\n",
    "L_fus = 35.50 #m\n",
    "d_fus = 3.30 # m\n",
    "V_app = 128/kn_factor # knots\n",
    "h_app = 0\n",
    "V_cr = 430*kn_factor  # knots\n",
    "h_cruise = 30000 / ft_factor # ft\n"
   ]
  },
  {
   "cell_type": "markdown",
   "metadata": {},
   "source": [
    "### Parasite drag estimation"
   ]
  },
  {
   "cell_type": "markdown",
   "metadata": {},
   "source": [
    "Here we need to consider only for the contribution of the wing and of the fuselage. "
   ]
  },
  {
   "cell_type": "code",
   "execution_count": 3,
   "metadata": {},
   "outputs": [],
   "source": [
    "# Do not consider miscleanous drag\n",
    "C_dmisc = 0"
   ]
  },
  {
   "cell_type": "code",
   "execution_count": 32,
   "metadata": {},
   "outputs": [
    {
     "name": "stdout",
     "output_type": "stream",
     "text": [
      "9143.553794574824\n"
     ]
    },
    {
     "data": {
      "text/plain": [
       "(array([3.24052118e-05]),\n",
       " array([1.48761059e-05]),\n",
       " array([0.45906523]),\n",
       " array([303.23206615]))"
      ]
     },
     "execution_count": 32,
     "metadata": {},
     "output_type": "execute_result"
    }
   ],
   "source": [
    "# Cruise parameters\n",
    "print(h_cruise)\n",
    "atmosphere = Atmosphere(h_cruise)\n",
    "kin_visc = atmosphere.kinematic_viscosity\n",
    "dyn_visc = atmosphere.dynamic_viscosity\n",
    "rho = atmosphere.density\n",
    "\n",
    "a = atmosphere.speed_of_sound\n",
    "M = V_cr/a[0]\n",
    "kin_visc, dyn_visc, rho, a"
   ]
  },
  {
   "cell_type": "markdown",
   "metadata": {},
   "source": [
    "### Fuselage component"
   ]
  },
  {
   "cell_type": "code",
   "execution_count": 5,
   "metadata": {},
   "outputs": [
    {
     "name": "stdout",
     "output_type": "stream",
     "text": [
      "[8.53076308e-05] [0.00179724] [8.53076308e-05] [0.00171164]\n"
     ]
    }
   ],
   "source": [
    "# 0.05% of the fuselage is laminar\n",
    "laminar_fus = 0.05\n",
    "c = 3.755\n",
    "k = 0.634e-5\n",
    "Re = V_cr * L_fus/kin_visc\n",
    "#V_cr*c/kin_visc\n",
    "\n",
    "# Laminar friction coefficient\n",
    "C_f_lamFus = 1.328/np.sqrt(Re)\n",
    "\n",
    "# Turbolent friction coefficient\n",
    "C_f_turbFus = 0.455/((np.log10(Re)**(2.58))*(1+0.144*M**2)**0.65)\n",
    "\n",
    "# Total friction coefficient weighted\n",
    "C_fFus = laminar_fus * C_f_lamFus + (1-laminar_fus) * C_f_turbFus\n",
    "Re\n",
    "print(C_f_lamFus, C_f_turbFus, 1.328/np.sqrt(Re), C_fFus)"
   ]
  },
  {
   "cell_type": "code",
   "execution_count": 6,
   "metadata": {},
   "outputs": [
    {
     "data": {
      "text/plain": [
       "(1.0750896081495798, 10.757575757575758)"
      ]
     },
     "execution_count": 6,
     "metadata": {},
     "output_type": "execute_result"
    }
   ],
   "source": [
    "f_fus = L_fus/np.sqrt(d_fus**2)\n",
    "FF_fus = (1+ 60/f_fus**3 + f_fus/ 400)\n",
    "FF_fus, f_fus"
   ]
  },
  {
   "cell_type": "markdown",
   "metadata": {},
   "source": [
    "#### Interference factor"
   ]
  },
  {
   "cell_type": "code",
   "execution_count": 7,
   "metadata": {},
   "outputs": [],
   "source": [
    "IF_fus = 1.0"
   ]
  },
  {
   "cell_type": "markdown",
   "metadata": {},
   "source": [
    "#### Wet area"
   ]
  },
  {
   "cell_type": "code",
   "execution_count": 8,
   "metadata": {},
   "outputs": [
    {
     "data": {
      "text/plain": [
       "137.6301171676473"
      ]
     },
     "execution_count": 8,
     "metadata": {},
     "output_type": "execute_result"
    }
   ],
   "source": [
    "L1_fus = 1.99978\n",
    "L2_fus = 28.44\n",
    "L3_fus = 5.06\n",
    "\n",
    "S_wet_fus = (np.pi * d_fus / 4) * ((1 / (3 * L1_fus**2)) * ((4 * L1_fus**2 + d_fus**2 / 4)**1.5 - d_fus**3 / 8)) - d_fus + 4 * L2_fus + 2 * np.sqrt(L3_fus**2 + d_fus**2 / 4)\n",
    "\n",
    "S_wet_fus"
   ]
  },
  {
   "cell_type": "markdown",
   "metadata": {},
   "source": [
    "### Wing component"
   ]
  },
  {
   "cell_type": "code",
   "execution_count": 9,
   "metadata": {},
   "outputs": [],
   "source": [
    "c = 3.755"
   ]
  },
  {
   "cell_type": "code",
   "execution_count": 10,
   "metadata": {},
   "outputs": [],
   "source": [
    "def angle_at_xdivc(x, c, LEsweep, c_r, tr, b):\n",
    "    return np.arctan(np.tan(LEsweep) - (x/c)  * 2 * (c_r/b) * (1-tr))"
   ]
  },
  {
   "cell_type": "code",
   "execution_count": 11,
   "metadata": {},
   "outputs": [
    {
     "name": "stdout",
     "output_type": "stream",
     "text": [
      "21.19571251545713\n",
      "15.124014377256355 0.2639638470020832\n"
     ]
    },
    {
     "data": {
      "text/plain": [
       "(0.0002624690457939755, 0.002473444218208737, 0.002252346700967261)"
      ]
     },
     "execution_count": 11,
     "metadata": {},
     "output_type": "execute_result"
    }
   ],
   "source": [
    "laminar_wing = 0.1\n",
    "# NACA 64(1)-212\n",
    "x_c_m = 0.4\n",
    "ttoc = 0.12\n",
    "print(LE_sweep)\n",
    "lambda_m  = angle_at_xdivc(4, 10, np.radians(LE_sweep), c_r, tr, b)\n",
    "\n",
    "print(np.degrees(lambda_m), lambda_m)\n",
    "k = 0.634e-5 # paint factor\n",
    "Re = 2.56e7#V_cr*c/kin_visc\n",
    "\n",
    "# Laminar friction coefficient\n",
    "C_f_lamwing = 1.328/np.sqrt(Re)\n",
    "\n",
    "# Turbolent friction coefficient\n",
    "C_f_turbwing = 0.455/((np.log10(Re)**(2.58))*(1+0.144*M**2)**0.65)\n",
    "\n",
    "# Total friction coefficient weighted\n",
    "C_fwing = laminar_wing * C_f_lamwing + (1-laminar_wing) * C_f_turbwing\n",
    "C_f_lamwing, C_f_turbwing, C_fwing"
   ]
  },
  {
   "cell_type": "markdown",
   "metadata": {},
   "source": [
    "#### Form factor"
   ]
  },
  {
   "cell_type": "code",
   "execution_count": 12,
   "metadata": {},
   "outputs": [
    {
     "data": {
      "text/plain": [
       "(1.5052598463243316, 15.124014377256355)"
      ]
     },
     "execution_count": 12,
     "metadata": {},
     "output_type": "execute_result"
    }
   ],
   "source": [
    "FF_wing = (1+ (0.6 / x_c_m) * ttoc + 100*ttoc**4)*(1.34*M**0.18*np.cos(lambda_m)**0.28)\n",
    "FF_wing, np.degrees(lambda_m)"
   ]
  },
  {
   "cell_type": "markdown",
   "metadata": {},
   "source": [
    "#### Interference factor"
   ]
  },
  {
   "cell_type": "code",
   "execution_count": 13,
   "metadata": {},
   "outputs": [],
   "source": [
    "IF_wing = 1.4 # 1.1 - 1.4"
   ]
  },
  {
   "cell_type": "markdown",
   "metadata": {},
   "source": [
    "#### S_{wet}"
   ]
  },
  {
   "cell_type": "code",
   "execution_count": 14,
   "metadata": {},
   "outputs": [
    {
     "data": {
      "text/plain": [
       "200.09"
      ]
     },
     "execution_count": 14,
     "metadata": {},
     "output_type": "execute_result"
    }
   ],
   "source": [
    "S_wet_wing = 2*1.07*S\n",
    "S_wet_wing"
   ]
  },
  {
   "cell_type": "markdown",
   "metadata": {},
   "source": [
    "## Wave drag"
   ]
  },
  {
   "cell_type": "markdown",
   "metadata": {},
   "source": [
    "### Final form drag estimation"
   ]
  },
  {
   "cell_type": "code",
   "execution_count": 29,
   "metadata": {},
   "outputs": [
    {
     "data": {
      "text/plain": [
       "(array([0.73434119]),\n",
       " 0.7295108819052281,\n",
       " 21.19571251545713,\n",
       " array([0.39738455]))"
      ]
     },
     "execution_count": 29,
     "metadata": {},
     "output_type": "execute_result"
    }
   ],
   "source": [
    "q = 0.5*rho*V_cr**2\n",
    "C_Ldes = 1.1*(1/q)*((MTOW + (MTOW-fuel_weight))/2)*9.81*1/S\n",
    "\n",
    "\n",
    "M_DD = 0.87/(math.cos(c4_sweep)) - (0.12)/((math.cos(c4_sweep)**2)) - C_Ldes/(10*((math.cos(c4_sweep)**3)))\n",
    "#M_DD = 0.87/(math.cos(np.radians(LE_sweep))) - (0.12)/((math.cos(np.radians(LE_sweep))**2)) - C_Ldes/(10*((math.cos(np.radians(LE_sweep))**3)))\n",
    "\n",
    "M_DD, M, LE_sweep, C_Ldes"
   ]
  },
  {
   "cell_type": "code",
   "execution_count": 30,
   "metadata": {},
   "outputs": [
    {
     "data": {
      "text/plain": [
       "(array([0.00161093]), 0.7295108819052281)"
      ]
     },
     "execution_count": 30,
     "metadata": {},
     "output_type": "execute_result"
    }
   ],
   "source": [
    "\n",
    "DeltaCD = 0.002*(1+2.5*(M_DD-M)/0.05)**(-1)\n",
    "DeltaCD, M"
   ]
  },
  {
   "cell_type": "code",
   "execution_count": 31,
   "metadata": {},
   "outputs": [
    {
     "name": "stdout",
     "output_type": "stream",
     "text": [
      "CD0 of the fuselafe and the aircraft without any compressibility effects and miscellaneuous drag is: [0.0144772]\n"
     ]
    }
   ],
   "source": [
    "CD_0 = (1/S)*(FF_fus*IF_fus*C_fFus*S_wet_fus+C_fwing*FF_wing*IF_wing*S_wet_wing) + DeltaCD\n",
    "print(f\"CD0 of the fuselafe and the aircraft without any compressibility effects and miscellaneuous drag is: {np.round(CD_0, 7)}\")"
   ]
  },
  {
   "cell_type": "code",
   "execution_count": 18,
   "metadata": {},
   "outputs": [
    {
     "name": "stderr",
     "output_type": "stream",
     "text": [
      "C:\\Users\\feder\\AppData\\Local\\Temp\\ipykernel_16128\\2684853951.py:1: RuntimeWarning: invalid value encountered in scalar power\n",
      "  e = 4.61 * (1 - 0.045 * AR**0.68) * (np.cos((LE_sweep))**0.15) - 3.1\n"
     ]
    },
    {
     "data": {
      "text/plain": [
       "nan"
      ]
     },
     "execution_count": 18,
     "metadata": {},
     "output_type": "execute_result"
    }
   ],
   "source": [
    "e = 4.61 * (1 - 0.045 * AR**0.68) * (np.cos((LE_sweep))**0.15) - 3.1\n",
    "e"
   ]
  },
  {
   "cell_type": "code",
   "execution_count": 19,
   "metadata": {},
   "outputs": [
    {
     "name": "stdout",
     "output_type": "stream",
     "text": [
      "The critical Mach number (M_cr) is: 0.7157\n"
     ]
    }
   ],
   "source": [
    "import numpy as np\n",
    "from scipy.optimize import fsolve\n",
    "\n",
    "def equation(M_cr, Cp_0, gamma):\n",
    "    # The equation corresponds to the image provided\n",
    "    left_hand_side = Cp_0 / np.sqrt(1 - M_cr**2)\n",
    "    right_hand_side = (2 / (gamma * M_cr**2)) * \\\n",
    "                      (((2 + (gamma - 1) * M_cr**2) / (gamma + 1))**(gamma / (gamma - 1)) - 1)\n",
    "    return left_hand_side - right_hand_side\n",
    "\n",
    "def solve_M_cr(Cp_0, gamma, M_cr_guess=0.8):\n",
    "    # Solve for M_cr using fsolve with an initial guess for M_cr\n",
    "    M_cr_solution = fsolve(equation, M_cr_guess, args=(Cp_0, gamma))\n",
    "    return M_cr_solution[0]\n",
    "\n",
    "# Example values for Cp_0 and gamma\n",
    "Cp_0 = -0.5  # Example value of Cp_0\n",
    "gamma = 1.4  # Ratio of specific heats (for air, gamma is typically 1.4)\n",
    "\n",
    "# Solve for M_cr\n",
    "M_cr = solve_M_cr(Cp_0, gamma)\n",
    "print(f\"The critical Mach number (M_cr) is: {M_cr:.4f}\")\n"
   ]
  },
  {
   "cell_type": "code",
   "execution_count": 61,
   "metadata": {},
   "outputs": [
    {
     "name": "stdout",
     "output_type": "stream",
     "text": [
      "-0.7159140717820883\n"
     ]
    },
    {
     "data": {
      "image/png": "[encoded data removed]",
      "text/plain": [
       "<Figure size 600x600 with 1 Axes>"
      ]
     },
     "metadata": {},
     "output_type": "display_data"
    }
   ],
   "source": [
    "import numpy as np\n",
    "import matplotlib.pyplot as plt\n",
    "\n",
    "# Define the left-hand side of the equation\n",
    "def lhs(M_cr, Cp_0):\n",
    "    return Cp_0 / np.sqrt(1 - M_cr**2)\n",
    "\n",
    "# Define the right-hand side of the equation\n",
    "def rhs(M_cr, gamma):\n",
    "    return (2 / (gamma * M_cr**2)) * \\\n",
    "           (((2 + (gamma - 1) * M_cr**2) / (gamma + 1))**(gamma / (gamma - 1)) - 1)\n",
    "\n",
    "# Parameters\n",
    "Cp_0 = -0.5   # Example value for Cp_0\n",
    "gamma = 1.4  # Ratio of specific heats (for air)\n",
    "\n",
    "# Generate Mach number values from 0.01 to 0.99 (to avoid division by zero at M = 1)\n",
    "M_cr_values = np.linspace(0.01, 0.99, 500)\n",
    "print(lhs(0.7157, -0.5))\n",
    "# Compute the left-hand side and right-hand side for each M_cr\n",
    "lhs_values = lhs(M_cr_values, Cp_0)\n",
    "rhs_values = rhs(M_cr_values, gamma)\n",
    "\n",
    "# Plotting the two functions\n",
    "plt.figure(figsize=(6, 6))\n",
    "plt.plot(M_cr_values, lhs_values, label='Left-hand side (LHS)', color='blue', linewidth=2)\n",
    "plt.plot(M_cr_values, rhs_values, label='Right-hand side (RHS)', color='green', linewidth=2)\n",
    "plt.xlabel(r'Mach number ($M_{cr}$) [-]')\n",
    "plt.ylabel(r'Pressure coefficient $(C_p)$ [-]')\n",
    "plt.plot((0.7157, 0.7157), (-2, -0.7159140717820883), color = 'red', linestyle='--')\n",
    "plt.plot((-0.025, 0.7157), (-0.7159140717820883, -0.7159140717820883), color = 'red', linestyle='--')\n",
    "\n",
    "plt.scatter(0.7157, -0.7159140717820883, marker='x', color='red', zorder = 999)\n",
    "plt.ylim(-2, 1)\n",
    "plt.xlim(-0.025, 1)\n",
    "#plt.title('Comparison of LHS and RHS as Functions of Mach Number (M_cr)', fontsize=16)\n",
    "plt.legend()\n",
    "plt.grid(True)\n",
    "plt.savefig('mcr.svg')\n",
    "plt.show()\n"
   ]
  },
  {
   "cell_type": "code",
   "execution_count": 43,
   "metadata": {},
   "outputs": [
    {
     "name": "stdout",
     "output_type": "stream",
     "text": [
      "The value of Cp_0 for M_cr = 0.7157 is: -0.5002\n"
     ]
    }
   ],
   "source": [
    "import numpy as np\n",
    "\n",
    "# Define the right-hand side of the equation\n",
    "def rhs(M_cr, gamma):\n",
    "    return (2 / (gamma * M_cr**2)) * \\\n",
    "           (((2 + (gamma - 1) * M_cr**2) / (gamma + 1))**(gamma / (gamma - 1)) - 1)\n",
    "\n",
    "# Parameters\n",
    "M_cr = 0.7157  # Given M_cr\n",
    "gamma = 1.4    # Ratio of specific heats (for air)\n",
    "\n",
    "# Compute the right-hand side value\n",
    "rhs_value = rhs(M_cr, gamma)\n",
    "\n",
    "# Compute Cp_0 using the equation\n",
    "Cp_0 = rhs_value * np.sqrt(1 - M_cr**2)\n",
    "\n",
    "print(f\"The value of Cp_0 for M_cr = {M_cr} is: {Cp_0:.4f}\")\n"
   ]
  },
  {
   "cell_type": "code",
   "execution_count": null,
   "metadata": {},
   "outputs": [],
   "source": []
  }
 ],
 "metadata": {
  "kernelspec": {
   "display_name": "base",
   "language": "python",
   "name": "python3"
  },
  "language_info": {
   "codemirror_mode": {
    "name": "ipython",
    "version": 3
   },
   "file_extension": ".py",
   "mimetype": "text/x-python",
   "name": "python",
   "nbconvert_exporter": "python",
   "pygments_lexer": "ipython3",
   "version": "3.12.4"
  }
 },
 "nbformat": 4,
 "nbformat_minor": 2
}
